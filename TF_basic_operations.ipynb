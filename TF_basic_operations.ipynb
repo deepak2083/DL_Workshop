{
  "nbformat": 4,
  "nbformat_minor": 0,
  "metadata": {
    "colab": {
      "name": "TF_basic_operations.ipynb",
      "version": "0.3.2",
      "provenance": []
    },
    "language_info": {
      "codemirror_mode": {
        "name": "ipython",
        "version": 2
      },
      "file_extension": ".py",
      "mimetype": "text/x-python",
      "name": "python",
      "nbconvert_exporter": "python",
      "pygments_lexer": "ipython2",
      "version": "2.7.8"
    },
    "kernelspec": {
      "display_name": "IPython (Python 2.7)",
      "language": "python",
      "name": "python2"
    }
  },
  "cells": [
    {
      "cell_type": "code",
      "metadata": {
        "id": "DbNU1Xfl85SV",
        "colab_type": "code",
        "colab": {}
      },
      "source": [
        "import tensorflow as tf"
      ],
      "execution_count": 0,
      "outputs": []
    },
    {
      "cell_type": "code",
      "metadata": {
        "id": "t3fjr7n-85Si",
        "colab_type": "code",
        "colab": {}
      },
      "source": [
        "# Basic constant operations\n",
        "# The value returned by the constructor represents the output\n",
        "# of the Constant op.\n",
        "a = tf.constant(2)\n",
        "b = tf.constant(3)"
      ],
      "execution_count": 0,
      "outputs": []
    },
    {
      "cell_type": "code",
      "metadata": {
        "id": "qDJBsY2A85Sq",
        "colab_type": "code",
        "colab": {},
        "outputId": "1e9296f4-4eea-40ff-be7a-a803f1f8535e"
      },
      "source": [
        "# Launch the default graph.\n",
        "with tf.Session() as sess:\n",
        "    print \"a: %i\" % sess.run(a), \"b: %i\" % sess.run(b)\n",
        "    print \"Addition with constants: %i\" % sess.run(a+b)\n",
        "    print \"Multiplication with constants: %i\" % sess.run(a*b)"
      ],
      "execution_count": 0,
      "outputs": [
        {
          "output_type": "stream",
          "text": [
            "a=2, b=3\n",
            "Addition with constants: 5\n",
            "Multiplication with constants: 6\n"
          ],
          "name": "stdout"
        }
      ]
    },
    {
      "cell_type": "code",
      "metadata": {
        "id": "WI0Mx8wZ85S2",
        "colab_type": "code",
        "colab": {}
      },
      "source": [
        "# Basic Operations with variable as graph input\n",
        "# The value returned by the constructor represents the output\n",
        "# of the Variable op. (define as input when running session)\n",
        "# tf Graph input\n",
        "a = tf.placeholder(tf.int16)\n",
        "b = tf.placeholder(tf.int16)"
      ],
      "execution_count": 0,
      "outputs": []
    },
    {
      "cell_type": "code",
      "metadata": {
        "id": "HSD2nxsB85TA",
        "colab_type": "code",
        "colab": {}
      },
      "source": [
        "# Define some operations\n",
        "add = tf.add(a, b)\n",
        "mul = tf.multiply(a, b)"
      ],
      "execution_count": 0,
      "outputs": []
    },
    {
      "cell_type": "code",
      "metadata": {
        "id": "kwaWh3-c85TG",
        "colab_type": "code",
        "colab": {},
        "outputId": "6dbb426d-f8ce-4c1c-b54d-8a095186b73c"
      },
      "source": [
        "# Launch the default graph.\n",
        "with tf.Session() as sess:\n",
        "    # Run every operation with variable input\n",
        "    print \"Addition with variables: %i\" % sess.run(add, feed_dict={a: 2, b: 3})\n",
        "    print \"Multiplication with variables: %i\" % sess.run(mul, feed_dict={a: 2, b: 3})"
      ],
      "execution_count": 0,
      "outputs": [
        {
          "output_type": "stream",
          "text": [
            "Addition with variables: 5\n",
            "Multiplication with variables: 6\n"
          ],
          "name": "stdout"
        }
      ]
    },
    {
      "cell_type": "code",
      "metadata": {
        "id": "RetocjWj85TU",
        "colab_type": "code",
        "colab": {}
      },
      "source": [
        "# ----------------\n",
        "# More in details:\n",
        "# Matrix Multiplication from TensorFlow official tutorial\n",
        "\n",
        "# Create a Constant op that produces a 1x2 matrix.  The op is\n",
        "# added as a node to the default graph.\n",
        "#\n",
        "# The value returned by the constructor represents the output\n",
        "# of the Constant op.\n",
        "matrix1 = tf.constant([[3., 3.]])"
      ],
      "execution_count": 0,
      "outputs": []
    },
    {
      "cell_type": "code",
      "metadata": {
        "id": "x7X1fdsy85Tc",
        "colab_type": "code",
        "colab": {}
      },
      "source": [
        "# Create another Constant that produces a 2x1 matrix.\n",
        "matrix2 = tf.constant([[2.],[2.]])"
      ],
      "execution_count": 0,
      "outputs": []
    },
    {
      "cell_type": "code",
      "metadata": {
        "id": "i1v9GRcT85Tl",
        "colab_type": "code",
        "colab": {}
      },
      "source": [
        "# Create a Matmul op that takes 'matrix1' and 'matrix2' as inputs.\n",
        "# The returned value, 'product', represents the result of the matrix\n",
        "# multiplication.\n",
        "product = tf.matmul(matrix1, matrix2)"
      ],
      "execution_count": 0,
      "outputs": []
    },
    {
      "cell_type": "code",
      "metadata": {
        "id": "ao0UaTdp85Tz",
        "colab_type": "code",
        "colab": {},
        "outputId": "ab2c9021-fba4-4da2-a70c-3bae19bd1a04"
      },
      "source": [
        "# To run the matmul op we call the session 'run()' method, passing 'product'\n",
        "# which represents the output of the matmul op.  This indicates to the call\n",
        "# that we want to get the output of the matmul op back.\n",
        "#\n",
        "# All inputs needed by the op are run automatically by the session.  They\n",
        "# typically are run in parallel.\n",
        "#\n",
        "# The call 'run(product)' thus causes the execution of threes ops in the\n",
        "# graph: the two constants and matmul.\n",
        "#\n",
        "# The output of the op is returned in 'result' as a numpy `ndarray` object.\n",
        "with tf.Session() as sess:\n",
        "    result = sess.run(product)\n",
        "    print result"
      ],
      "execution_count": 0,
      "outputs": [
        {
          "output_type": "stream",
          "text": [
            "[[ 12.]]\n"
          ],
          "name": "stdout"
        }
      ]
    }
  ]
}